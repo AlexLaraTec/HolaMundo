{
  "nbformat": 4,
  "nbformat_minor": 0,
  "metadata": {
    "colab": {
      "provenance": [],
      "authorship_tag": "ABX9TyM9Opgqi+9jNfOsBpcMwmDR",
      "include_colab_link": true
    },
    "kernelspec": {
      "name": "python3",
      "display_name": "Python 3"
    },
    "language_info": {
      "name": "python"
    }
  },
  "cells": [
    {
      "cell_type": "markdown",
      "metadata": {
        "id": "view-in-github",
        "colab_type": "text"
      },
      "source": [
        "<a href=\"https://colab.research.google.com/github/AlexLaraTec/HolaMundo/blob/main/Hola_Mundo.ipynb\" target=\"_parent\"><img src=\"https://colab.research.google.com/assets/colab-badge.svg\" alt=\"Open In Colab\"/></a>"
      ]
    },
    {
      "cell_type": "code",
      "execution_count": 1,
      "metadata": {
        "id": "g3XPlvyvgl9t"
      },
      "outputs": [],
      "source": [
        "#Importamos librerias requeridas \n",
        "import pandas as pd\n",
        "import numpy as np \n",
        "import matplotlib.pyplot as plt \n",
        "import seaborn as sns "
      ]
    },
    {
      "cell_type": "code",
      "source": [
        "#Cargar archivo  csv desde seaborn \n",
        "df=sns.load_dataset(name='car_crashes')"
      ],
      "metadata": {
        "id": "jouHqKW0ihWl"
      },
      "execution_count": 2,
      "outputs": []
    },
    {
      "cell_type": "code",
      "source": [
        "#Imprimimos las primeras filas o registros del Dataframe \n",
        "df.head(5)"
      ],
      "metadata": {
        "id": "ydLASM6HjgSn"
      },
      "execution_count": null,
      "outputs": []
    },
    {
      "cell_type": "code",
      "source": [
        "#Imprimimos las ulltimas filas o registros del Dataframe \n",
        "df.tail(5)"
      ],
      "metadata": {
        "id": "hT07VpWbkN_u"
      },
      "execution_count": null,
      "outputs": []
    },
    {
      "cell_type": "code",
      "source": [
        "df.info"
      ],
      "metadata": {
        "id": "ArRE2_3XkZQn"
      },
      "execution_count": null,
      "outputs": []
    }
  ]
}